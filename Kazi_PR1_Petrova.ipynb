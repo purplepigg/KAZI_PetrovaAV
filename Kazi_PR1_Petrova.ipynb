{
  "nbformat": 4,
  "nbformat_minor": 0,
  "metadata": {
    "colab": {
      "name": "Kazi_Lab1_Petrova.ipynb",
      "provenance": [],
      "collapsed_sections": []
    },
    "kernelspec": {
      "name": "python3",
      "display_name": "Python 3"
    },
    "language_info": {
      "name": "python"
    }
  },
  "cells": [
    {
      "cell_type": "code",
      "metadata": {
        "id": "xKy6jMl16oTO"
      },
      "source": [
        ""
      ],
      "execution_count": null,
      "outputs": []
    },
    {
      "cell_type": "markdown",
      "metadata": {
        "id": "b1unFPd96tpx"
      },
      "source": [
        "# **Количественная оценка стоимости парольной защиты**"
      ]
    },
    {
      "cell_type": "markdown",
      "metadata": {
        "id": "cXPidNM47JXc"
      },
      "source": [
        "*Задание*\n"
      ]
    },
    {
      "cell_type": "markdown",
      "metadata": {
        "id": "24AGFovu7Uw0"
      },
      "source": [
        "Определить минимальные мощность алфавита паролей A и длину паролей L, обеспечивающих вероятность подбора пароля злоумышленником не более заданной P, при скорости подбора паролей V, максимальном сроке действия пароля T."
      ]
    },
    {
      "cell_type": "markdown",
      "metadata": {
        "id": "4Q3NU3Gn82ES"
      },
      "source": [
        "Теория"
      ]
    },
    {
      "cell_type": "markdown",
      "metadata": {
        "id": "AOIabvtH853C"
      },
      "source": [
        "Пусть A – мощность алфавита паролей (количество символов, которые могут быть использованы при составлении пароля. Например, если пароль состоит только из малых английских букв, то A=26).\n",
        "\n",
        "L – длина пароля.\n",
        "\n",
        "S = A^L - число всевозможных паролей длины L, которые можно составить из символов алфавита A.\n",
        "\n",
        "V – скорость перебора паролей злоумышленником.\n",
        "\n",
        "T – максимальный срок действия пароля.\n",
        "\n",
        "Тогда, вероятность P подбора пароля злоумышленником в течении срока его действия V определяется по следующей формуле:\n",
        "\n",
        "P=(VT)/S= (VT)/A^L"
      ]
    },
    {
      "cell_type": "markdown",
      "metadata": {
        "id": "ZlaCIQMS7h60"
      },
      "source": [
        "Исходные данные:"
      ]
    },
    {
      "cell_type": "markdown",
      "metadata": {
        "id": "FF9gKYxP7yUz"
      },
      "source": [
        "P= 10^(-4)"
      ]
    },
    {
      "cell_type": "markdown",
      "metadata": {
        "id": "cF0We8_l74yv"
      },
      "source": [
        "V= 10 паролей/мин"
      ]
    },
    {
      "cell_type": "markdown",
      "metadata": {
        "id": "3AbsiNxf7-7j"
      },
      "source": [
        "Т= 3 недели= 30240 минут"
      ]
    },
    {
      "cell_type": "markdown",
      "metadata": {
        "id": "3oOhBeDo8oIR"
      },
      "source": [
        "РЕШЕНИЕ"
      ]
    },
    {
      "cell_type": "code",
      "metadata": {
        "colab": {
          "base_uri": "https://localhost:8080/"
        },
        "id": "jnFuCgS58knO",
        "outputId": "a1132dbe-f818-484b-bada-1980680240a5"
      },
      "source": [
        "import math\n",
        "P = pow(10, -4);\n",
        "V = 10;\n",
        "T = 30240;\n",
        "S1 = ( V * T ) / P;\n",
        "math.ceil(S1);\n",
        "print(int(S1));"
      ],
      "execution_count": 1,
      "outputs": [
        {
          "output_type": "stream",
          "name": "stdout",
          "text": [
            "3024000000\n"
          ]
        }
      ]
    },
    {
      "cell_type": "code",
      "metadata": {
        "colab": {
          "base_uri": "https://localhost:8080/"
        },
        "id": "eIaeLqDr9tf5",
        "outputId": "949fa4a2-78a8-42a0-d62c-b5aef886bb4f"
      },
      "source": [
        "A= 26;\n",
        "L= 7;\n",
        "W= pow(A, L);\n",
        "print(W);"
      ],
      "execution_count": 24,
      "outputs": [
        {
          "output_type": "stream",
          "name": "stdout",
          "text": [
            "8031810176\n"
          ]
        }
      ]
    },
    {
      "cell_type": "code",
      "metadata": {
        "colab": {
          "base_uri": "https://localhost:8080/"
        },
        "id": "GsVVMHMH-Z7Y",
        "outputId": "c3807ed7-a162-42b3-bcad-5b29e022b10c"
      },
      "source": [
        "if S1 <= W:\n",
        "  print (\"Минимальные А= {} и L= {}\".format(A, L))\n",
        "else:\n",
        "    print (\"Необходимо провести повторный анализ А= {} и L {}\".format(A, L))"
      ],
      "execution_count": 25,
      "outputs": [
        {
          "output_type": "stream",
          "name": "stdout",
          "text": [
            "Минимальные А= 26 и L= 7\n"
          ]
        }
      ]
    }
  ]
}